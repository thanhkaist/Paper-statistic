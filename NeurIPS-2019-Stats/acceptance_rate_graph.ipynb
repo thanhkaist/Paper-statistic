{
 "cells": [
  {
   "cell_type": "code",
   "execution_count": 5,
   "metadata": {},
   "outputs": [
    {
     "data": {
      "text/html": [
       "        <script type=\"text/javascript\">\n",
       "        window.PlotlyConfig = {MathJaxConfig: 'local'};\n",
       "        if (window.MathJax) {MathJax.Hub.Config({SVG: {font: \"STIX-Web\"}});}\n",
       "        if (typeof require !== 'undefined') {\n",
       "        require.undef(\"plotly\");\n",
       "        requirejs.config({\n",
       "            paths: {\n",
       "                'plotly': ['https://cdn.plot.ly/plotly-latest.min']\n",
       "            }\n",
       "        });\n",
       "        require(['plotly'], function(Plotly) {\n",
       "            window._Plotly = Plotly;\n",
       "        });\n",
       "        }\n",
       "        </script>\n",
       "        "
      ]
     },
     "metadata": {},
     "output_type": "display_data"
    }
   ],
   "source": [
    "import plotly.plotly as py\n",
    "import plotly.graph_objs as go\n",
    "import plotly.io as pio\n",
    "\n",
    "from IPython.display import Image\n",
    "\n",
    "from plotly.offline import download_plotlyjs, init_notebook_mode, plot, iplot\n",
    "\n",
    "# Submission / Acceptance\n",
    "\n",
    "nAcceptedPapers = [414, 403, 569, 678, 1011, 1428]\n",
    "nAcceptanceRates = [24.7, 21.9, 23.6, 20.9, 20.8, 21.1]\n",
    "nSubmissions = [1678, 1838, 2403, 3240, 4856, 6743]\n",
    "\n",
    "X = ['NeurIPS 2014', 'NeurIPS 2015', 'NeurIPS 2016', 'NeurIPS 2017', 'NeurIPS 2018','NeurIPS 2019']\n",
    "\n",
    "trace0 = go.Bar(\n",
    "    x=X,\n",
    "    y= nSubmissions,\n",
    "    text=nSubmissions,\n",
    "    textposition = 'auto',\n",
    "    name='Papers submitted',\n",
    "    marker=dict(\n",
    "        color='rgb(49,130,189)'\n",
    "    )\n",
    ")\n",
    "trace1 = go.Bar(\n",
    "    x=X,\n",
    "    y=nAcceptedPapers,\n",
    "    text=nAcceptedPapers,\n",
    "    textposition = 'auto',\n",
    "    name='Papers accepted',\n",
    "    marker=dict(\n",
    "        color='rgb(204,204,204)',\n",
    "    )\n",
    ")\n",
    "\n",
    "trace2 = go.Bar(\n",
    "    x=X,\n",
    "    y=nAcceptanceRates,\n",
    "    text=nAcceptanceRates,\n",
    "    textposition = 'auto',\n",
    "    name='Acceptance rate',\n",
    "    marker=dict(\n",
    "        color='rgb(204,102,0)',\n",
    "    )\n",
    ")\n",
    "\n",
    "\n",
    "data = [trace0, trace1, trace2]\n",
    "layout = go.Layout(\n",
    "    title='Statistics of acceptance rate NeurIPS',\n",
    "    xaxis=dict(tickangle=-45),\n",
    "    barmode='group',\n",
    ")\n",
    "\n",
    "init_notebook_mode(connected=True)\n",
    "\n",
    "fig = go.Figure(data=data, layout=layout)\n",
    "# plot(fig, filename='angled-text-bar')\n",
    "\n",
    "static_image_bytes = pio.to_image(fig, format='png')\n",
    "Image(static_image_bytes)\n",
    "\n",
    "pio.write_image(fig, file='acceptance_rate.png', format='png')"
   ]
  },
  {
   "cell_type": "code",
   "execution_count": null,
   "metadata": {},
   "outputs": [],
   "source": []
  }
 ],
 "metadata": {
  "kernelspec": {
   "display_name": "Python 3",
   "language": "python",
   "name": "python3"
  },
  "language_info": {
   "codemirror_mode": {
    "name": "ipython",
    "version": 3
   },
   "file_extension": ".py",
   "mimetype": "text/x-python",
   "name": "python",
   "nbconvert_exporter": "python",
   "pygments_lexer": "ipython3",
   "version": "3.6.8"
  }
 },
 "nbformat": 4,
 "nbformat_minor": 2
}
